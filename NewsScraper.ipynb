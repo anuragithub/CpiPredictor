{
 "cells": [
  {
   "cell_type": "code",
   "execution_count": 1,
   "metadata": {},
   "outputs": [],
   "source": [
    "import requests\n",
    "from bs4 import BeautifulSoup\n",
    "import bs4"
   ]
  },
  {
   "cell_type": "code",
   "execution_count": 2,
   "metadata": {},
   "outputs": [],
   "source": [
    "URL = 'https://www.google.com/search?pz=1&cf=all&ned=us&hl=en&tbm=nws&gl=us&as_q={query}&as_occt=any&as_drrb=b&as_mindate={month}%2F%{from_day}%2F{year}&as_maxdate={month}%2F{to_day}%2F{year}&tbs=cdr%3A1%2Ccd_min%3A3%2F1%2F13%2Ccd_max%3A3%2F2%2F13&as_nsrc=Gulf%20Times&authuser=0'"
   ]
  },
  {
   "cell_type": "code",
   "execution_count": 3,
   "metadata": {},
   "outputs": [],
   "source": [
    "def run(**params):\n",
    "    response = requests.get(URL.format(**params))\n",
    "    html = BeautifulSoup(response.content,\"html.parser\")\n",
    "    return html"
   ]
  },
  {
   "cell_type": "code",
   "execution_count": 4,
   "metadata": {},
   "outputs": [],
   "source": [
    "def headlinesProvider(month,fday,tday,year,query):\n",
    "    temp = run(query=query, month=month, from_day=fday, to_day=tday, year=year)\n",
    "    newslist = temp.findAll(\"div\", {\"class\": \"st\"})\n",
    "    headlines = []\n",
    "    for news in newslist:\n",
    "        headline = \"\"\n",
    "        for x in news.contents:\n",
    "            #print(x)\n",
    "            if(type(x) is not bs4.element.NavigableString):\n",
    "                headline += x.get_text()\n",
    "            else:\n",
    "                headline += x\n",
    "        headlines.append(headline)\n",
    "    return headlines"
   ]
  },
  {
   "cell_type": "code",
   "execution_count": 8,
   "metadata": {},
   "outputs": [],
   "source": [
    "headlines = headlinesProvider(1,1,30,13,\"Health\")"
   ]
  },
  {
   "cell_type": "code",
   "execution_count": 10,
   "metadata": {},
   "outputs": [
    {
     "name": "stdout",
     "output_type": "stream",
     "text": [
      "The Ministry of Public Health announced yesterday its plans to improve the health of women and children in Qatar, as part of the work its doing ...\n",
      "QIC Group entity QLM Life & Medical Insurance Company will celebrate World Health Day by offering free medical check-up for all residents of ...\n",
      "Launching of Occupational Safety and Health Conference for the month of March was held yesterday under the title “Working together for ...\n",
      "Qatar University's (QU) Health Cluster organised the “Fourth Annual QU Health Research Symposium” at the Research Complex, bringing ...\n",
      "Chiyoda Almana, a leading local integrated project services provider for hydrocarbon and non-hydrocarbon sectors in Qatar, has received ISO ...\n",
      "Qatar has the potential to become a world leader in advanced healthcare services, a top official of Hamad Bin Khalifa University (HBKU) told ...\n",
      "This type of question is usually followed by a similar claim: that somehow 'eating 100% plant based is not healthy for a human body.' In this ...\n",
      "Hamad Medical Corporation's (HMC) Health Professions Awareness and Volunteering Programme in collaboration with the Ministry of Interior, ...\n",
      "Since the start of the year, we have travelled from Afghanistan and Pakistan, where health workers administering the polio vaccine are battling ...\n",
      "The emergency unit at Rawdat Al Khail Health Centre will start functioning from April, the Primary Health Care Corporation (PHCC) has ...\n"
     ]
    }
   ],
   "source": [
    "for headline in headlines:\n",
    "    print(headline)"
   ]
  },
  {
   "cell_type": "code",
   "execution_count": null,
   "metadata": {},
   "outputs": [],
   "source": []
  }
 ],
 "metadata": {
  "kernelspec": {
   "display_name": "Python 3",
   "language": "python",
   "name": "python3"
  },
  "language_info": {
   "codemirror_mode": {
    "name": "ipython",
    "version": 3
   },
   "file_extension": ".py",
   "mimetype": "text/x-python",
   "name": "python",
   "nbconvert_exporter": "python",
   "pygments_lexer": "ipython3",
   "version": "3.6.2"
  }
 },
 "nbformat": 4,
 "nbformat_minor": 2
}
